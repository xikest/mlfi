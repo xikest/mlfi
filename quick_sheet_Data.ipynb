{
 "cells": [
  {
   "cell_type": "code",
   "execution_count": 1,
   "id": "68a41f8f",
   "metadata": {},
   "outputs": [
    {
     "name": "stdout",
     "output_type": "stream",
     "text": [
      " C 드라이브의 볼륨에는 이름이 없습니다.\n",
      " 볼륨 일련 번호: 6ECB-CDD3\n",
      "\n",
      " C:\\Users\\taest\\Documents\\GitHub\\mlfi 디렉터리\n",
      "\n",
      "2022-11-13  오후 08:23    <DIR>          .\n",
      "2022-11-13  오후 08:23    <DIR>          ..\n",
      "2022-11-13  오후 08:15                52 .gitignore\n",
      "2022-11-13  오후 07:53    <DIR>          .ipynb_checkpoints\n",
      "2022-11-13  오후 07:58    <DIR>          data_provider\n",
      "2022-11-13  오후 07:47             1,400 kelly_allocation.py\n",
      "2022-11-13  오후 08:23             2,487 Untitled.ipynb\n",
      "2022-11-13  오후 07:47    <DIR>          utils\n",
      "               3개 파일               3,939 바이트\n",
      "               5개 디렉터리  180,723,605,504 바이트 남음\n"
     ]
    }
   ],
   "source": [
    "%ls"
   ]
  },
  {
   "cell_type": "code",
   "execution_count": 2,
   "id": "8301ac65",
   "metadata": {},
   "outputs": [],
   "source": []
  },
  {
   "cell_type": "code",
   "execution_count": 7,
   "id": "a82f3d8e",
   "metadata": {},
   "outputs": [],
   "source": [
    "\n",
    "import pandas as pd"
   ]
  },
  {
   "cell_type": "markdown",
   "id": "8a39dd81",
   "metadata": {},
   "source": [
    "## 프로파일 불러오기"
   ]
  },
  {
   "cell_type": "markdown",
   "id": "81bda4d7",
   "metadata": {},
   "source": [
    "```python\n",
    "@dataclass\n",
    "class Profile:\n",
    "    ticker:Optional[str] = None\n",
    "    name:Optional[str] = None\n",
    "    sector:Optional[str] = None\n",
    "    sub_industry:Optional[str] = None\n",
    "    location:Optional[str] = None\n",
    "    first_added:Optional[str] = None\n",
    "    cik:Optional[str] = None\n",
    "    founded:Optional[str] = None\n",
    "    enterpriseValue:Union[int, float]=None\n",
    "```"
   ]
  },
  {
   "cell_type": "code",
   "execution_count": null,
   "id": "e1310dc6",
   "metadata": {},
   "outputs": [],
   "source": [
    "from data_provider.providers import Profiles"
   ]
  },
  {
   "cell_type": "code",
   "execution_count": 12,
   "id": "664dfe32",
   "metadata": {},
   "outputs": [
    {
     "data": {
      "text/html": [
       "<div>\n",
       "<style scoped>\n",
       "    .dataframe tbody tr th:only-of-type {\n",
       "        vertical-align: middle;\n",
       "    }\n",
       "\n",
       "    .dataframe tbody tr th {\n",
       "        vertical-align: top;\n",
       "    }\n",
       "\n",
       "    .dataframe thead th {\n",
       "        text-align: right;\n",
       "    }\n",
       "</style>\n",
       "<table border=\"1\" class=\"dataframe\">\n",
       "  <thead>\n",
       "    <tr style=\"text-align: right;\">\n",
       "      <th></th>\n",
       "      <th>ticker</th>\n",
       "      <th>name</th>\n",
       "      <th>sector</th>\n",
       "      <th>sub_industry</th>\n",
       "      <th>location</th>\n",
       "      <th>first_added</th>\n",
       "      <th>cik</th>\n",
       "      <th>founded</th>\n",
       "      <th>enterpriseValue</th>\n",
       "    </tr>\n",
       "  </thead>\n",
       "  <tbody>\n",
       "    <tr>\n",
       "      <th>0</th>\n",
       "      <td>MMM</td>\n",
       "      <td>3M</td>\n",
       "      <td>Industrials</td>\n",
       "      <td>Industrial Conglomerates</td>\n",
       "      <td>Saint Paul, Minnesota</td>\n",
       "      <td>1976-08-09</td>\n",
       "      <td>66740</td>\n",
       "      <td>1902</td>\n",
       "      <td>67675348992</td>\n",
       "    </tr>\n",
       "    <tr>\n",
       "      <th>1</th>\n",
       "      <td>AOS</td>\n",
       "      <td>A. O. Smith</td>\n",
       "      <td>Industrials</td>\n",
       "      <td>Building Products</td>\n",
       "      <td>Milwaukee, Wisconsin</td>\n",
       "      <td>2017-07-26</td>\n",
       "      <td>91142</td>\n",
       "      <td>1916</td>\n",
       "      <td>7918445568</td>\n",
       "    </tr>\n",
       "    <tr>\n",
       "      <th>2</th>\n",
       "      <td>ABT</td>\n",
       "      <td>Abbott</td>\n",
       "      <td>Healthcare</td>\n",
       "      <td>Health Care Equipment</td>\n",
       "      <td>North Chicago, Illinois</td>\n",
       "      <td>1964-03-31</td>\n",
       "      <td>1800</td>\n",
       "      <td>1888</td>\n",
       "      <td>179308969984</td>\n",
       "    </tr>\n",
       "  </tbody>\n",
       "</table>\n",
       "</div>"
      ],
      "text/plain": [
       "  ticker         name       sector              sub_industry  \\\n",
       "0    MMM           3M  Industrials  Industrial Conglomerates   \n",
       "1    AOS  A. O. Smith  Industrials         Building Products   \n",
       "2    ABT       Abbott   Healthcare     Health Care Equipment   \n",
       "\n",
       "                  location first_added    cik founded  enterpriseValue  \n",
       "0    Saint Paul, Minnesota  1976-08-09  66740    1902      67675348992  \n",
       "1     Milwaukee, Wisconsin  2017-07-26  91142    1916       7918445568  \n",
       "2  North Chicago, Illinois  1964-03-31   1800    1888     179308969984  "
      ]
     },
     "execution_count": 12,
     "metadata": {},
     "output_type": "execute_result"
    }
   ],
   "source": [
    "profiles = pd.DataFrame( list( Profiles.load_profiles('snp500')))\n",
    "profiles.head()"
   ]
  },
  {
   "cell_type": "code",
   "execution_count": null,
   "id": "c85b70de",
   "metadata": {},
   "outputs": [],
   "source": [
    "profiles = pd.DataFrame( list( Profiles.load_profiles('kospi')))\n",
    "profiles.head()"
   ]
  },
  {
   "cell_type": "code",
   "execution_count": null,
   "id": "59911456",
   "metadata": {},
   "outputs": [],
   "source": [
    "profiles = pd.DataFrame( list( Profiles.load_profiles('nasdaq')))\n",
    "profiles.head()"
   ]
  },
  {
   "cell_type": "code",
   "execution_count": null,
   "id": "bdf58fb1",
   "metadata": {},
   "outputs": [],
   "source": [
    "profiles = pd.DataFrame( list( Profiles.load_profiles('etf_us')))\n",
    "profiles.head()"
   ]
  },
  {
   "cell_type": "code",
   "execution_count": null,
   "id": "66024917",
   "metadata": {},
   "outputs": [],
   "source": [
    "profiles = pd.DataFrame( list( Profiles.load_profiles('etf_kr')))\n",
    "profiles.head()"
   ]
  },
  {
   "cell_type": "markdown",
   "id": "bbb419ae",
   "metadata": {},
   "source": [
    "## 데이터 불러오기"
   ]
  },
  {
   "cell_type": "code",
   "execution_count": null,
   "id": "edc2bf74",
   "metadata": {},
   "outputs": [],
   "source": [
    "from data_provider import Data"
   ]
  },
  {
   "cell_type": "code",
   "execution_count": null,
   "id": "95df7374",
   "metadata": {},
   "outputs": [],
   "source": [
    "snp500 = Data(\"snp500\")"
   ]
  },
  {
   "cell_type": "code",
   "execution_count": null,
   "id": "138f74ee",
   "metadata": {},
   "outputs": [],
   "source": [
    "nasdaq = Data(\"nasdaq\")"
   ]
  },
  {
   "cell_type": "code",
   "execution_count": null,
   "id": "3b92fe4a",
   "metadata": {},
   "outputs": [],
   "source": [
    "kospi = Data(\"kospi\")"
   ]
  },
  {
   "cell_type": "code",
   "execution_count": null,
   "id": "eea4779e",
   "metadata": {},
   "outputs": [],
   "source": [
    "etf_us = Data(\"etf_us\")"
   ]
  },
  {
   "cell_type": "code",
   "execution_count": null,
   "id": "8194f58f",
   "metadata": {},
   "outputs": [],
   "source": [
    "etf_kr = Data(\"etf_kr\")"
   ]
  },
  {
   "cell_type": "code",
   "execution_count": null,
   "id": "325c1e4a",
   "metadata": {},
   "outputs": [],
   "source": []
  },
  {
   "cell_type": "code",
   "execution_count": null,
   "id": "9b804f49",
   "metadata": {},
   "outputs": [],
   "source": [
    "snp500.get_data()"
   ]
  },
  {
   "cell_type": "code",
   "execution_count": null,
   "id": "23fe8424",
   "metadata": {},
   "outputs": [],
   "source": [
    "snp500.vol"
   ]
  },
  {
   "cell_type": "code",
   "execution_count": null,
   "id": "7ec132b8",
   "metadata": {},
   "outputs": [],
   "source": [
    "snp500.get_data().data_engineered.unstack('ticker')"
   ]
  }
 ],
 "metadata": {
  "kernelspec": {
   "display_name": "mlft",
   "language": "python",
   "name": "mlft"
  },
  "language_info": {
   "codemirror_mode": {
    "name": "ipython",
    "version": 3
   },
   "file_extension": ".py",
   "mimetype": "text/x-python",
   "name": "python",
   "nbconvert_exporter": "python",
   "pygments_lexer": "ipython3",
   "version": "3.8.13"
  }
 },
 "nbformat": 4,
 "nbformat_minor": 5
}
