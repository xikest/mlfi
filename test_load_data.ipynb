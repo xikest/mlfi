{
 "cells": [
  {
   "cell_type": "code",
   "execution_count": 2,
   "id": "84c476ac",
   "metadata": {
    "scrolled": true
   },
   "outputs": [
    {
     "name": "stderr",
     "output_type": "stream",
     "text": [
      "/workspace/mlfi_x/data_provider/providers/function_for_engineering/returns.py:36: SyntaxWarning: \"is\" with a literal. Did you mean \"==\"?\n",
      "  if period is 'm' :    min_obs = 120\n",
      "/workspace/mlfi_x/data_provider/providers/function_for_engineering/returns.py:37: SyntaxWarning: \"is\" with a literal. Did you mean \"==\"?\n",
      "  elif period is 'w' :   min_obs = 120 * 52\n",
      "/workspace/mlfi_x/data_provider/providers/function_for_engineering/factors.py:94: SyntaxWarning: \"is\" with a literal. Did you mean \"==\"?\n",
      "  if period is 'm' :   T = 24\n"
     ]
    },
    {
     "name": "stdout",
     "output_type": "stream",
     "text": [
      "nasdaq loaded\n"
     ]
    },
    {
     "name": "stderr",
     "output_type": "stream",
     "text": [
      "100%|██████████| 4594/4594 [00:13<00:00, 345.55it/s]\n"
     ]
    },
    {
     "name": "stdout",
     "output_type": "stream",
     "text": [
      "nasdaq saved\n",
      "saved\n"
     ]
    },
    {
     "name": "stderr",
     "output_type": "stream",
     "text": [
      "151it [04:43,  3.33s/it]"
     ]
    },
    {
     "name": "stdout",
     "output_type": "stream",
     "text": [
      " error_web_PPD,prices: No data fetched for symbol PPD using YahooDailyReader, try to fdr\n"
     ]
    },
    {
     "name": "stderr",
     "output_type": "stream",
     "text": [
      "229it [09:21,  3.42s/it]"
     ]
    },
    {
     "name": "stdout",
     "output_type": "stream",
     "text": [
      " error_web_CREE,prices: No data fetched for symbol CREE using YahooDailyReader, try to fdr\n"
     ]
    },
    {
     "name": "stderr",
     "output_type": "stream",
     "text": [
      "247it [10:26,  2.92s/it]"
     ]
    },
    {
     "name": "stdout",
     "output_type": "stream",
     "text": [
      " error_web_PBCT,prices: No data fetched for symbol PBCT using YahooDailyReader, try to fdr\n"
     ]
    },
    {
     "name": "stderr",
     "output_type": "stream",
     "text": [
      "647it [33:07,  3.21s/it]"
     ]
    },
    {
     "name": "stdout",
     "output_type": "stream",
     "text": [
      " error_web_SRNG,prices: No data fetched for symbol SRNG using YahooDailyReader, try to fdr\n"
     ]
    },
    {
     "name": "stderr",
     "output_type": "stream",
     "text": [
      "652it [33:22,  2.86s/it]"
     ]
    },
    {
     "name": "stdout",
     "output_type": "stream",
     "text": [
      " error_web_TLND,prices: No data fetched for symbol TLND using YahooDailyReader, try to fdr\n"
     ]
    },
    {
     "name": "stderr",
     "output_type": "stream",
     "text": [
      "721it [37:05,  3.26s/it]"
     ]
    },
    {
     "name": "stdout",
     "output_type": "stream",
     "text": [
      " error_web_SRNGU,prices: No data fetched for symbol SRNGU using YahooDailyReader, try to fdr\n"
     ]
    },
    {
     "name": "stderr",
     "output_type": "stream",
     "text": [
      "793it [40:55,  2.68s/it]"
     ]
    },
    {
     "name": "stdout",
     "output_type": "stream",
     "text": [
      " error_web_VRTU,prices: No data fetched for symbol VRTU using YahooDailyReader, try to fdr\n"
     ]
    },
    {
     "name": "stderr",
     "output_type": "stream",
     "text": [
      "868it [45:02,  3.11s/it]"
     ]
    },
    {
     "name": "stdout",
     "output_type": "stream",
     "text": [
      " error_web_EIGI,prices: No data fetched for symbol EIGI using YahooDailyReader, try to fdr\n"
     ]
    },
    {
     "name": "stderr",
     "output_type": "stream",
     "text": [
      "928it [48:18,  2.57s/it]"
     ]
    },
    {
     "name": "stdout",
     "output_type": "stream",
     "text": [
      " error_web_OMP,prices: No data fetched for symbol OMP using YahooDailyReader, try to fdr\n"
     ]
    },
    {
     "name": "stderr",
     "output_type": "stream",
     "text": [
      "1086it [57:05,  2.78s/it]"
     ]
    },
    {
     "name": "stdout",
     "output_type": "stream",
     "text": [
      " error_web_ALTA,prices: No data fetched for symbol ALTA using YahooDailyReader, try to fdr\n"
     ]
    },
    {
     "name": "stderr",
     "output_type": "stream",
     "text": [
      "1099it [57:46,  2.75s/it]"
     ]
    },
    {
     "name": "stdout",
     "output_type": "stream",
     "text": [
      " error_web_CLCT,prices: No data fetched for symbol CLCT using YahooDailyReader, try to fdr\n"
     ]
    },
    {
     "name": "stderr",
     "output_type": "stream",
     "text": [
      "1176it [1:01:54,  2.66s/it]"
     ]
    },
    {
     "name": "stdout",
     "output_type": "stream",
     "text": [
      " error_web_TNT,prices: No data fetched for symbol TNT using YahooDailyReader, try to fdr\n"
     ]
    },
    {
     "name": "stderr",
     "output_type": "stream",
     "text": [
      "1273it [1:07:00,  2.72s/it]"
     ]
    },
    {
     "name": "stdout",
     "output_type": "stream",
     "text": [
      " error_web_CMLT,prices: No data fetched for symbol CMLT using YahooDailyReader, try to fdr\n"
     ]
    },
    {
     "name": "stderr",
     "output_type": "stream",
     "text": [
      "1280it [1:07:24,  3.12s/it]"
     ]
    },
    {
     "name": "stdout",
     "output_type": "stream",
     "text": [
      " error_web_WIFI,prices: No data fetched for symbol WIFI using YahooDailyReader, try to fdr\n"
     ]
    },
    {
     "name": "stderr",
     "output_type": "stream",
     "text": [
      "1347it [1:11:06,  3.35s/it]"
     ]
    },
    {
     "name": "stdout",
     "output_type": "stream",
     "text": [
      " error_web_BOWX,prices: No data fetched for symbol BOWX using YahooDailyReader, try to fdr\n"
     ]
    },
    {
     "name": "stderr",
     "output_type": "stream",
     "text": [
      "1401it [1:13:59,  3.10s/it]"
     ]
    },
    {
     "name": "stdout",
     "output_type": "stream",
     "text": [
      " error_web_DCRC,prices: No data fetched for symbol DCRC using YahooDailyReader, try to fdr\n"
     ]
    },
    {
     "name": "stderr",
     "output_type": "stream",
     "text": [
      "1403it [1:14:05,  2.84s/it]"
     ]
    },
    {
     "name": "stdout",
     "output_type": "stream",
     "text": [
      " error_web_CMLTU,prices: No data fetched for symbol CMLTU using YahooDailyReader, try to fdr\n"
     ]
    },
    {
     "name": "stderr",
     "output_type": "stream",
     "text": [
      "1429it [1:15:20,  2.72s/it]"
     ]
    },
    {
     "name": "stdout",
     "output_type": "stream",
     "text": [
      " error_web_MAAC,prices: No data fetched for symbol MAAC using YahooDailyReader, try to fdr\n"
     ]
    },
    {
     "name": "stderr",
     "output_type": "stream",
     "text": [
      "1440it [1:15:55,  2.89s/it]"
     ]
    },
    {
     "name": "stdout",
     "output_type": "stream",
     "text": [
      " error_web_HOL,prices: No data fetched for symbol HOL using YahooDailyReader, try to fdr\n"
     ]
    },
    {
     "name": "stderr",
     "output_type": "stream",
     "text": [
      "1449it [1:16:20,  2.78s/it]"
     ]
    },
    {
     "name": "stdout",
     "output_type": "stream",
     "text": [
      " error_web_INAQU,prices: 'Date', try to fdr\n"
     ]
    },
    {
     "name": "stderr",
     "output_type": "stream",
     "text": [
      "1492it [1:18:32,  2.56s/it]"
     ]
    },
    {
     "name": "stdout",
     "output_type": "stream",
     "text": [
      " error_web_BOWXU,prices: No data fetched for symbol BOWXU using YahooDailyReader, try to fdr\n"
     ]
    },
    {
     "name": "stderr",
     "output_type": "stream",
     "text": [
      "\r",
      "1493it [1:18:33,  2.27s/it]"
     ]
    },
    {
     "name": "stdout",
     "output_type": "stream",
     "text": [
      " error_web_DCRCU,prices: No data fetched for symbol DCRCU using YahooDailyReader, try to fdr\n"
     ]
    },
    {
     "name": "stderr",
     "output_type": "stream",
     "text": [
      "1498it [1:18:48,  2.82s/it]"
     ]
    },
    {
     "name": "stdout",
     "output_type": "stream",
     "text": [
      " error_web_MSON,prices: No data fetched for symbol MSON using YahooDailyReader, try to fdr\n"
     ]
    },
    {
     "name": "stderr",
     "output_type": "stream",
     "text": [
      "1507it [1:19:17,  3.01s/it]"
     ]
    },
    {
     "name": "stdout",
     "output_type": "stream",
     "text": [
      " error_web_GIG,prices: No data fetched for symbol GIG using YahooDailyReader, try to fdr\n"
     ]
    },
    {
     "name": "stderr",
     "output_type": "stream",
     "text": [
      "1525it [1:20:10,  2.68s/it]"
     ]
    },
    {
     "name": "stdout",
     "output_type": "stream",
     "text": [
      " error_web_PPGH,prices: No data fetched for symbol PPGH using YahooDailyReader, try to fdr\n"
     ]
    },
    {
     "name": "stderr",
     "output_type": "stream",
     "text": [
      "1536it [1:20:44,  2.77s/it]"
     ]
    },
    {
     "name": "stdout",
     "output_type": "stream",
     "text": [
      " error_web_MDCA,prices: No data fetched for symbol MDCA using YahooDailyReader, try to fdr\n"
     ]
    },
    {
     "name": "stderr",
     "output_type": "stream",
     "text": [
      "1577it [1:22:39,  2.43s/it]"
     ]
    },
    {
     "name": "stdout",
     "output_type": "stream",
     "text": [
      " error_web_HEC,prices: No data fetched for symbol HEC using YahooDailyReader, try to fdr\n"
     ]
    },
    {
     "name": "stderr",
     "output_type": "stream",
     "text": [
      "1588it [1:23:11,  2.84s/it]"
     ]
    },
    {
     "name": "stdout",
     "output_type": "stream",
     "text": [
      " error_web_MAACU,prices: No data fetched for symbol MAACU using YahooDailyReader, try to fdr\n"
     ]
    },
    {
     "name": "stderr",
     "output_type": "stream",
     "text": [
      "1624it [1:25:02,  2.60s/it]"
     ]
    },
    {
     "name": "stdout",
     "output_type": "stream",
     "text": [
      " error_web_SVACU,prices: No data fetched for symbol SVACU using YahooDailyReader, try to fdr\n"
     ]
    },
    {
     "name": "stderr",
     "output_type": "stream",
     "text": [
      "1688it [1:28:15,  2.63s/it]"
     ]
    },
    {
     "name": "stdout",
     "output_type": "stream",
     "text": [
      " error_web_TDACU,prices: No data fetched for symbol TDACU using YahooDailyReader, try to fdr\n"
     ]
    },
    {
     "name": "stderr",
     "output_type": "stream",
     "text": [
      "1711it [1:29:21,  2.45s/it]"
     ]
    },
    {
     "name": "stdout",
     "output_type": "stream",
     "text": [
      " error_web_PPGHU,prices: No data fetched for symbol PPGHU using YahooDailyReader, try to fdr\n"
     ]
    },
    {
     "name": "stderr",
     "output_type": "stream",
     "text": [
      "1749it [1:31:13,  2.66s/it]"
     ]
    },
    {
     "name": "stdout",
     "output_type": "stream",
     "text": [
      " error_web_RVAC,prices: No data fetched for symbol RVAC using YahooDailyReader, try to fdr\n"
     ]
    },
    {
     "name": "stderr",
     "output_type": "stream",
     "text": [
      "1773it [1:32:22,  2.71s/it]"
     ]
    },
    {
     "name": "stdout",
     "output_type": "stream",
     "text": [
      " error_web_DGNS,prices: No data fetched for symbol DGNS using YahooDailyReader, try to fdr\n"
     ]
    },
    {
     "name": "stderr",
     "output_type": "stream",
     "text": [
      "1851it [1:36:06,  3.03s/it]"
     ]
    },
    {
     "name": "stdout",
     "output_type": "stream",
     "text": [
      " error_web_LACQU,prices: 'Date', try to fdr\n"
     ]
    },
    {
     "name": "stderr",
     "output_type": "stream",
     "text": [
      "1861it [1:36:31,  2.39s/it]"
     ]
    },
    {
     "name": "stdout",
     "output_type": "stream",
     "text": [
      " error_web_KSMT,prices: No data fetched for symbol KSMT using YahooDailyReader, try to fdr\n"
     ]
    },
    {
     "name": "stderr",
     "output_type": "stream",
     "text": [
      "1884it [1:37:42,  2.81s/it]"
     ]
    },
    {
     "name": "stdout",
     "output_type": "stream",
     "text": [
      " error_web_FIII,prices: No data fetched for symbol FIII using YahooDailyReader, try to fdr\n"
     ]
    },
    {
     "name": "stderr",
     "output_type": "stream",
     "text": [
      "1932it [1:39:59,  2.56s/it]"
     ]
    },
    {
     "name": "stdout",
     "output_type": "stream",
     "text": [
      " error_web_DNAA,prices: No data fetched for symbol DNAA using YahooDailyReader, try to fdr\n"
     ]
    },
    {
     "name": "stderr",
     "output_type": "stream",
     "text": [
      "1964it [1:41:33,  2.69s/it]"
     ]
    },
    {
     "name": "stdout",
     "output_type": "stream",
     "text": [
      " error_web_SVOK,prices: No data fetched for symbol SVOK using YahooDailyReader, try to fdr\n"
     ]
    },
    {
     "name": "stderr",
     "output_type": "stream",
     "text": [
      "1971it [1:41:51,  2.32s/it]"
     ]
    },
    {
     "name": "stdout",
     "output_type": "stream",
     "text": [
      " error_web_TLC,prices: No data fetched for symbol TLC using YahooDailyReader, try to fdr\n"
     ]
    },
    {
     "name": "stderr",
     "output_type": "stream",
     "text": [
      "2010it [1:43:41,  2.61s/it]"
     ]
    },
    {
     "name": "stdout",
     "output_type": "stream",
     "text": [
      " error_web_GXGX,prices: No data fetched for symbol GXGX using YahooDailyReader, try to fdr\n"
     ]
    },
    {
     "name": "stderr",
     "output_type": "stream",
     "text": [
      "2043it [1:45:15,  2.64s/it]"
     ]
    },
    {
     "name": "stdout",
     "output_type": "stream",
     "text": [
      " error_web_CRSA,prices: No data fetched for symbol CRSA using YahooDailyReader, try to fdr\n"
     ]
    },
    {
     "name": "stderr",
     "output_type": "stream",
     "text": [
      "2048it [1:45:28,  2.43s/it]"
     ]
    },
    {
     "name": "stdout",
     "output_type": "stream",
     "text": [
      " error_web_DCRB,prices: No data fetched for symbol DCRB using YahooDailyReader, try to fdr\n"
     ]
    },
    {
     "name": "stderr",
     "output_type": "stream",
     "text": [
      "2098it [1:47:56,  2.90s/it]"
     ]
    },
    {
     "name": "stdout",
     "output_type": "stream",
     "text": [
      " error_web_TMTS,prices: No data fetched for symbol TMTS using YahooDailyReader, try to fdr\n"
     ]
    },
    {
     "name": "stderr",
     "output_type": "stream",
     "text": [
      "2133it [1:49:36,  2.41s/it]"
     ]
    },
    {
     "name": "stdout",
     "output_type": "stream",
     "text": [
      " error_web_PFBI,prices: No data fetched for symbol PFBI using YahooDailyReader, try to fdr\n"
     ]
    },
    {
     "name": "stderr",
     "output_type": "stream",
     "text": [
      "2150it [1:50:27,  2.96s/it]"
     ]
    },
    {
     "name": "stdout",
     "output_type": "stream",
     "text": [
      " error_web_PBCTP,prices: No data fetched for symbol PBCTP using YahooDailyReader, try to fdr\n"
     ]
    },
    {
     "name": "stderr",
     "output_type": "stream",
     "text": [
      "2152it [1:50:33,  2.88s/it]"
     ]
    },
    {
     "name": "stdout",
     "output_type": "stream",
     "text": [
      " error_web_BOCH,prices: No data fetched for symbol BOCH using YahooDailyReader, try to fdr\n"
     ]
    },
    {
     "name": "stderr",
     "output_type": "stream",
     "text": [
      "2192it [1:52:32,  2.59s/it]"
     ]
    },
    {
     "name": "stdout",
     "output_type": "stream",
     "text": [
      " error_web_CRSAU,prices: No data fetched for symbol CRSAU using YahooDailyReader, try to fdr\n"
     ]
    },
    {
     "name": "stderr",
     "output_type": "stream",
     "text": [
      "2205it [1:53:08,  2.51s/it]"
     ]
    },
    {
     "name": "stdout",
     "output_type": "stream",
     "text": [
      " error_web_SVOKU,prices: No data fetched for symbol SVOKU using YahooDailyReader, try to fdr\n"
     ]
    },
    {
     "name": "stderr",
     "output_type": "stream",
     "text": [
      "2243it [1:55:00,  2.55s/it]"
     ]
    },
    {
     "name": "stdout",
     "output_type": "stream",
     "text": [
      " error_web_GWAC,prices: No data fetched for symbol GWAC using YahooDailyReader, try to fdr\n"
     ]
    },
    {
     "name": "stderr",
     "output_type": "stream",
     "text": [
      "2266it [1:56:04,  2.57s/it]"
     ]
    },
    {
     "name": "stdout",
     "output_type": "stream",
     "text": [
      " error_web_STWO,prices: No data fetched for symbol STWO using YahooDailyReader, try to fdr\n"
     ]
    },
    {
     "name": "stderr",
     "output_type": "stream",
     "text": [
      "2333it [1:59:10,  2.43s/it]"
     ]
    },
    {
     "name": "stdout",
     "output_type": "stream",
     "text": [
      " error_web_SGAM,prices: No data fetched for symbol SGAM using YahooDailyReader, try to fdr\n"
     ]
    },
    {
     "name": "stderr",
     "output_type": "stream",
     "text": [
      "2346it [1:59:44,  2.42s/it]"
     ]
    },
    {
     "name": "stdout",
     "output_type": "stream",
     "text": [
      " error_web_TMTSU,prices: No data fetched for symbol TMTSU using YahooDailyReader, try to fdr\n"
     ]
    },
    {
     "name": "stderr",
     "output_type": "stream",
     "text": [
      "2380it [2:01:26,  2.76s/it]"
     ]
    },
    {
     "name": "stdout",
     "output_type": "stream",
     "text": [
      " error_web_ENVI,prices: No data fetched for symbol ENVI using YahooDailyReader, try to fdr\n"
     ]
    },
    {
     "name": "stderr",
     "output_type": "stream",
     "text": [
      "2404it [2:02:37,  2.77s/it]"
     ]
    },
    {
     "name": "stdout",
     "output_type": "stream",
     "text": [
      " error_web_LATNU,prices: No data fetched for symbol LATNU using YahooDailyReader, try to fdr\n"
     ]
    },
    {
     "name": "stderr",
     "output_type": "stream",
     "text": [
      "2436it [2:04:07,  2.59s/it]"
     ]
    },
    {
     "name": "stdout",
     "output_type": "stream",
     "text": [
      " error_web_GWACU,prices: No data fetched for symbol GWACU using YahooDailyReader, try to fdr\n"
     ]
    },
    {
     "name": "stderr",
     "output_type": "stream",
     "text": [
      "2578it [2:11:10,  2.76s/it]"
     ]
    },
    {
     "name": "stdout",
     "output_type": "stream",
     "text": [
      " error_web_AMHC,prices: No data fetched for symbol AMHC using YahooDailyReader, try to fdr\n"
     ]
    },
    {
     "name": "stderr",
     "output_type": "stream",
     "text": [
      "2587it [2:11:35,  2.54s/it]"
     ]
    },
    {
     "name": "stdout",
     "output_type": "stream",
     "text": [
      " error_web_ENVIU,prices: No data fetched for symbol ENVIU using YahooDailyReader, try to fdr\n"
     ]
    },
    {
     "name": "stderr",
     "output_type": "stream",
     "text": [
      "2594it [2:11:54,  2.44s/it]"
     ]
    },
    {
     "name": "stdout",
     "output_type": "stream",
     "text": [
      " error_web_TDAC,prices: No data fetched for symbol TDAC using YahooDailyReader, try to fdr\n"
     ]
    },
    {
     "name": "stderr",
     "output_type": "stream",
     "text": [
      "2625it [2:13:23,  2.58s/it]"
     ]
    },
    {
     "name": "stdout",
     "output_type": "stream",
     "text": [
      " error_web_LATN,prices: No data fetched for symbol LATN using YahooDailyReader, try to fdr\n"
     ]
    },
    {
     "name": "stderr",
     "output_type": "stream",
     "text": [
      "2643it [2:14:18,  2.53s/it]"
     ]
    },
    {
     "name": "stdout",
     "output_type": "stream",
     "text": [
      " error_web_SVBI,prices: No data fetched for symbol SVBI using YahooDailyReader, try to fdr\n"
     ]
    },
    {
     "name": "stderr",
     "output_type": "stream",
     "text": [
      "2738it [2:19:04,  2.75s/it]"
     ]
    },
    {
     "name": "stdout",
     "output_type": "stream",
     "text": [
      " error_web_TRIT,prices: No data fetched for symbol TRIT using YahooDailyReader, try to fdr\n"
     ]
    },
    {
     "name": "stderr",
     "output_type": "stream",
     "text": [
      "\r",
      "2739it [2:19:07,  2.66s/it]"
     ]
    },
    {
     "name": "stdout",
     "output_type": "stream",
     "text": [
      " error_web_GLAQ,prices: No data fetched for symbol GLAQ using YahooDailyReader, try to fdr\n"
     ]
    },
    {
     "name": "stderr",
     "output_type": "stream",
     "text": [
      "2798it [2:21:53,  2.81s/it]"
     ]
    },
    {
     "name": "stdout",
     "output_type": "stream",
     "text": [
      " error_web_CAHC,prices: No data fetched for symbol CAHC using YahooDailyReader, try to fdr\n"
     ]
    },
    {
     "name": "stderr",
     "output_type": "stream",
     "text": [
      "2836it [2:23:51,  2.90s/it]"
     ]
    },
    {
     "name": "stdout",
     "output_type": "stream",
     "text": [
      " error_web_GLAQU,prices: No data fetched for symbol GLAQU using YahooDailyReader, try to fdr\n"
     ]
    },
    {
     "name": "stderr",
     "output_type": "stream",
     "text": [
      "2852it [2:24:39,  2.70s/it]"
     ]
    },
    {
     "name": "stdout",
     "output_type": "stream",
     "text": [
      " error_web_MILE,prices: No data fetched for symbol MILE using YahooDailyReader, try to fdr\n"
     ]
    },
    {
     "name": "stderr",
     "output_type": "stream",
     "text": [
      "2899it [2:26:57,  2.57s/it]"
     ]
    },
    {
     "name": "stdout",
     "output_type": "stream",
     "text": [
      " error_web_AHAC,prices: No data fetched for symbol AHAC using YahooDailyReader, try to fdr\n"
     ]
    },
    {
     "name": "stderr",
     "output_type": "stream",
     "text": [
      "2942it [2:29:08,  2.92s/it]"
     ]
    },
    {
     "name": "stdout",
     "output_type": "stream",
     "text": [
      " error_web_CAHCU,prices: No data fetched for symbol CAHCU using YahooDailyReader, try to fdr\n"
     ]
    },
    {
     "name": "stderr",
     "output_type": "stream",
     "text": [
      "2977it [2:30:50,  2.69s/it]"
     ]
    },
    {
     "name": "stdout",
     "output_type": "stream",
     "text": [
      " error_web_HJLI,prices: No data fetched for symbol HJLI using YahooDailyReader, try to fdr\n"
     ]
    },
    {
     "name": "stderr",
     "output_type": "stream",
     "text": [
      "3025it [2:33:09,  2.50s/it]"
     ]
    },
    {
     "name": "stdout",
     "output_type": "stream",
     "text": [
      " error_web_VMAC,prices: No data fetched for symbol VMAC using YahooDailyReader, try to fdr\n"
     ]
    },
    {
     "name": "stderr",
     "output_type": "stream",
     "text": [
      "3074it [2:35:30,  2.38s/it]"
     ]
    },
    {
     "name": "stdout",
     "output_type": "stream",
     "text": [
      " error_web_RMRM,prices: No data fetched for symbol RMRM using YahooDailyReader, try to fdr\n"
     ]
    },
    {
     "name": "stderr",
     "output_type": "stream",
     "text": [
      "3086it [2:36:06,  2.59s/it]"
     ]
    },
    {
     "name": "stdout",
     "output_type": "stream",
     "text": [
      " error_web_ARPO,prices: No data fetched for symbol ARPO using YahooDailyReader, try to fdr\n"
     ]
    },
    {
     "name": "stderr",
     "output_type": "stream",
     "text": [
      "3150it [2:39:18,  3.02s/it]"
     ]
    },
    {
     "name": "stdout",
     "output_type": "stream",
     "text": [
      " error_web_VMACU,prices: No data fetched for symbol VMACU using YahooDailyReader, try to fdr\n"
     ]
    },
    {
     "name": "stderr",
     "output_type": "stream",
     "text": [
      "3175it [2:40:32,  2.69s/it]"
     ]
    },
    {
     "name": "stdout",
     "output_type": "stream",
     "text": [
      " error_web_MAGS,prices: No data fetched for symbol MAGS using YahooDailyReader, try to fdr\n"
     ]
    },
    {
     "name": "stderr",
     "output_type": "stream",
     "text": [
      "3200it [2:41:45,  2.72s/it]"
     ]
    },
    {
     "name": "stdout",
     "output_type": "stream",
     "text": [
      " error_web_FVE,prices: No data fetched for symbol FVE using YahooDailyReader, try to fdr\n"
     ]
    },
    {
     "name": "stderr",
     "output_type": "stream",
     "text": [
      "3244it [2:43:54,  2.90s/it]"
     ]
    },
    {
     "name": "stdout",
     "output_type": "stream",
     "text": [
      " error_web_LACQ,prices: 'Date', try to fdr\n"
     ]
    },
    {
     "name": "stderr",
     "output_type": "stream",
     "text": [
      "3271it [2:45:14,  2.83s/it]"
     ]
    },
    {
     "name": "stdout",
     "output_type": "stream",
     "text": [
      " error_web_LIVK,prices: No data fetched for symbol LIVK using YahooDailyReader, try to fdr\n"
     ]
    },
    {
     "name": "stderr",
     "output_type": "stream",
     "text": [
      "\r",
      "3272it [2:45:16,  2.47s/it]"
     ]
    },
    {
     "name": "stdout",
     "output_type": "stream",
     "text": [
      " error_web_MCAD,prices: No data fetched for symbol MCAD using YahooDailyReader, try to fdr\n"
     ]
    },
    {
     "name": "stderr",
     "output_type": "stream",
     "text": [
      "3338it [2:48:30,  2.58s/it]"
     ]
    },
    {
     "name": "stdout",
     "output_type": "stream",
     "text": [
      " error_web_NYMTP,prices: No data fetched for symbol NYMTP using YahooDailyReader, try to fdr\n"
     ]
    },
    {
     "name": "stderr",
     "output_type": "stream",
     "text": [
      "3375it [2:50:17,  2.47s/it]"
     ]
    },
    {
     "name": "stdout",
     "output_type": "stream",
     "text": [
      " error_web_GPCO,prices: No data fetched for symbol GPCO using YahooDailyReader, try to fdr\n"
     ]
    },
    {
     "name": "stderr",
     "output_type": "stream",
     "text": [
      "3383it [2:50:39,  2.53s/it]"
     ]
    },
    {
     "name": "stdout",
     "output_type": "stream",
     "text": [
      " error_web_MCADU,prices: No data fetched for symbol MCADU using YahooDailyReader, try to fdr\n"
     ]
    },
    {
     "name": "stderr",
     "output_type": "stream",
     "text": [
      "3527it [2:57:57,  2.74s/it]"
     ]
    },
    {
     "name": "stdout",
     "output_type": "stream",
     "text": [
      " error_web_TRMT,prices: No data fetched for symbol TRMT using YahooDailyReader, try to fdr\n"
     ]
    },
    {
     "name": "stderr",
     "output_type": "stream",
     "text": [
      "3563it [2:59:48,  2.86s/it]"
     ]
    },
    {
     "name": "stdout",
     "output_type": "stream",
     "text": [
      " error_web_CBMB,prices: No data fetched for symbol CBMB using YahooDailyReader, try to fdr\n"
     ]
    },
    {
     "name": "stderr",
     "output_type": "stream",
     "text": [
      "3590it [3:01:08,  2.61s/it]"
     ]
    },
    {
     "name": "stdout",
     "output_type": "stream",
     "text": [
      " error_web_BPOPN,prices: No data fetched for symbol BPOPN using YahooDailyReader, try to fdr\n"
     ]
    },
    {
     "name": "stderr",
     "output_type": "stream",
     "text": [
      "3634it [3:03:25,  2.82s/it]"
     ]
    },
    {
     "name": "stdout",
     "output_type": "stream",
     "text": [
      " error_web_MYT,prices: No data fetched for symbol MYT using YahooDailyReader, try to fdr\n"
     ]
    },
    {
     "name": "stderr",
     "output_type": "stream",
     "text": [
      "3720it [3:07:46,  2.68s/it]"
     ]
    },
    {
     "name": "stdout",
     "output_type": "stream",
     "text": [
      " error_web_EARS,prices: No data fetched for symbol EARS using YahooDailyReader, try to fdr\n"
     ]
    },
    {
     "name": "stderr",
     "output_type": "stream",
     "text": [
      "3743it [3:08:59,  2.87s/it]"
     ]
    },
    {
     "name": "stdout",
     "output_type": "stream",
     "text": [
      " error_web_LBPS,prices: No data fetched for symbol LBPS using YahooDailyReader, try to fdr\n"
     ]
    },
    {
     "name": "stderr",
     "output_type": "stream",
     "text": [
      "3750it [3:09:19,  2.74s/it]"
     ]
    },
    {
     "name": "stdout",
     "output_type": "stream",
     "text": [
      " error_web_MOSY,prices: No data fetched for symbol MOSY using YahooDailyReader, try to fdr\n"
     ]
    },
    {
     "name": "stderr",
     "output_type": "stream",
     "text": [
      "3784it [3:11:05,  2.93s/it]"
     ]
    },
    {
     "name": "stdout",
     "output_type": "stream",
     "text": [
      " error_web_AZRX,prices: No data fetched for symbol AZRX using YahooDailyReader, try to fdr\n"
     ]
    },
    {
     "name": "stderr",
     "output_type": "stream",
     "text": [
      "3860it [3:15:01,  3.12s/it]"
     ]
    },
    {
     "name": "stdout",
     "output_type": "stream",
     "text": [
      " error_web_LANDP,prices: No data fetched for symbol LANDP using YahooDailyReader, try to fdr\n"
     ]
    },
    {
     "name": "stderr",
     "output_type": "stream",
     "text": [
      "3899it [3:16:57,  2.67s/it]"
     ]
    },
    {
     "name": "stdout",
     "output_type": "stream",
     "text": [
      " error_web_IMAC,prices: No data fetched for symbol IMAC using YahooDailyReader, try to fdr\n"
     ]
    },
    {
     "name": "stderr",
     "output_type": "stream",
     "text": [
      "3901it [3:17:01,  2.46s/it]"
     ]
    },
    {
     "name": "stdout",
     "output_type": "stream",
     "text": [
      " error_web_LEVLP,prices: No data fetched for symbol LEVLP using YahooDailyReader, try to fdr\n"
     ]
    },
    {
     "name": "stderr",
     "output_type": "stream",
     "text": [
      "3979it [3:20:58,  2.61s/it]"
     ]
    },
    {
     "name": "stdout",
     "output_type": "stream",
     "text": [
      " error_web_MLND,prices: No data fetched for symbol MLND using YahooDailyReader, try to fdr\n"
     ]
    },
    {
     "name": "stderr",
     "output_type": "stream",
     "text": [
      "4053it [3:24:32,  2.64s/it]"
     ]
    },
    {
     "name": "stdout",
     "output_type": "stream",
     "text": [
      " error_web_MKTYP,prices: No data fetched for symbol MKTYP using YahooDailyReader, try to fdr\n"
     ]
    },
    {
     "name": "stderr",
     "output_type": "stream",
     "text": [
      "4082it [3:26:00,  2.77s/it]"
     ]
    },
    {
     "name": "stdout",
     "output_type": "stream",
     "text": [
      " error_web_REDU,prices: No data fetched for symbol REDU using YahooDailyReader, try to fdr\n"
     ]
    },
    {
     "name": "stderr",
     "output_type": "stream",
     "text": [
      "4094it [3:26:38,  2.83s/it]"
     ]
    },
    {
     "name": "stdout",
     "output_type": "stream",
     "text": [
      " error_web_MTSL,prices: No data fetched for symbol MTSL using YahooDailyReader, try to fdr\n"
     ]
    },
    {
     "name": "stderr",
     "output_type": "stream",
     "text": [
      "4128it [3:28:19,  2.92s/it]"
     ]
    },
    {
     "name": "stdout",
     "output_type": "stream",
     "text": [
      " error_web_GIPRU,prices: No data fetched for symbol GIPRU using YahooDailyReader, try to fdr\n"
     ]
    },
    {
     "name": "stderr",
     "output_type": "stream",
     "text": [
      "4178it [3:30:51,  3.03s/it]"
     ]
    },
    {
     "name": "stdout",
     "output_type": "stream",
     "text": [
      " error_web_APOP,prices: No data fetched for symbol APOP using YahooDailyReader, try to fdr\n"
     ]
    },
    {
     "name": "stderr",
     "output_type": "stream",
     "text": [
      "4201it [3:31:59,  2.91s/it]"
     ]
    },
    {
     "name": "stdout",
     "output_type": "stream",
     "text": [
      " error_web_ASRVP,prices: No data fetched for symbol ASRVP using YahooDailyReader, try to fdr\n"
     ]
    },
    {
     "name": "stderr",
     "output_type": "stream",
     "text": [
      "4335it [3:38:41,  2.50s/it]"
     ]
    },
    {
     "name": "stdout",
     "output_type": "stream",
     "text": [
      " error_web_MCADR,prices: No data fetched for symbol MCADR using YahooDailyReader, try to fdr\n"
     ]
    },
    {
     "name": "stderr",
     "output_type": "stream",
     "text": [
      "4479it [3:45:48,  2.59s/it]"
     ]
    },
    {
     "name": "stdout",
     "output_type": "stream",
     "text": [
      " error_web_ZSAN,prices: No data fetched for symbol ZSAN using YahooDailyReader, try to fdr\n"
     ]
    },
    {
     "name": "stderr",
     "output_type": "stream",
     "text": [
      "4487it [3:46:10,  2.75s/it]"
     ]
    },
    {
     "name": "stdout",
     "output_type": "stream",
     "text": [
      " error_web_BRLIR,prices: 'Date', try to fdr\n"
     ]
    },
    {
     "name": "stderr",
     "output_type": "stream",
     "text": [
      "4489it [3:46:15,  2.50s/it]"
     ]
    },
    {
     "name": "stdout",
     "output_type": "stream",
     "text": [
      " error_web_MAXNV,prices: No data fetched for symbol MAXNV using YahooDailyReader, try to fdr\n"
     ]
    },
    {
     "name": "stderr",
     "output_type": "stream",
     "text": [
      "\r",
      "4490it [3:46:17,  2.24s/it]"
     ]
    },
    {
     "name": "stdout",
     "output_type": "stream",
     "text": [
      " error_web_SPWRV,prices: No data fetched for symbol SPWRV using YahooDailyReader, try to fdr\n"
     ]
    },
    {
     "name": "stderr",
     "output_type": "stream",
     "text": [
      "\r",
      "4491it [3:46:19,  2.25s/it]"
     ]
    },
    {
     "name": "stdout",
     "output_type": "stream",
     "text": [
      " error_web_MCACR,prices: 'Date', try to fdr\n"
     ]
    },
    {
     "name": "stderr",
     "output_type": "stream",
     "text": [
      "\r",
      "4492it [3:46:21,  2.24s/it]"
     ]
    },
    {
     "name": "stdout",
     "output_type": "stream",
     "text": [
      " error_web_SPEL,prices: No data fetched for symbol SPEL using YahooDailyReader, try to fdr\n"
     ]
    },
    {
     "name": "stderr",
     "output_type": "stream",
     "text": [
      "\r",
      "4493it [3:46:24,  2.28s/it]"
     ]
    },
    {
     "name": "stdout",
     "output_type": "stream",
     "text": [
      " error_web_MVNR,prices: 'Date', try to fdr\n"
     ]
    },
    {
     "name": "stderr",
     "output_type": "stream",
     "text": [
      "\r",
      "4494it [3:46:26,  2.37s/it]"
     ]
    },
    {
     "name": "stdout",
     "output_type": "stream",
     "text": [
      " error_web_ADOCR,prices: 'Date', try to fdr\n"
     ]
    },
    {
     "name": "stderr",
     "output_type": "stream",
     "text": [
      "\r",
      "4495it [3:46:28,  2.33s/it]"
     ]
    },
    {
     "name": "stdout",
     "output_type": "stream",
     "text": [
      " error_web_BREZR,prices: 'Date', try to fdr\n"
     ]
    },
    {
     "name": "stderr",
     "output_type": "stream",
     "text": [
      "4499it [3:46:38,  2.40s/it]"
     ]
    },
    {
     "name": "stdout",
     "output_type": "stream",
     "text": [
      " error_web_GBRGR,prices: 'Date', try to fdr\n"
     ]
    },
    {
     "name": "stderr",
     "output_type": "stream",
     "text": [
      "\r",
      "4500it [3:46:41,  2.40s/it]"
     ]
    },
    {
     "name": "stdout",
     "output_type": "stream",
     "text": [
      " error_web_MBTCR,prices: 'Date', try to fdr\n"
     ]
    },
    {
     "name": "stderr",
     "output_type": "stream",
     "text": [
      "\r",
      "4501it [3:46:43,  2.39s/it]"
     ]
    },
    {
     "name": "stdout",
     "output_type": "stream",
     "text": [
      " error_web_VISN,prices: No data fetched for symbol VISN using YahooDailyReader, try to fdr\n"
     ]
    },
    {
     "name": "stderr",
     "output_type": "stream",
     "text": [
      "4503it [3:46:47,  2.16s/it]"
     ]
    },
    {
     "name": "stdout",
     "output_type": "stream",
     "text": [
      " error_web_VMEOV,prices: No data fetched for symbol VMEOV using YahooDailyReader, try to fdr\n"
     ]
    },
    {
     "name": "stderr",
     "output_type": "stream",
     "text": [
      "\r",
      "4504it [3:46:49,  2.19s/it]"
     ]
    },
    {
     "name": "stdout",
     "output_type": "stream",
     "text": [
      " error_web_SVNIU,prices: 'Date', try to fdr\n"
     ]
    },
    {
     "name": "stderr",
     "output_type": "stream",
     "text": [
      "\r",
      "4505it [3:46:52,  2.22s/it]"
     ]
    },
    {
     "name": "stdout",
     "output_type": "stream",
     "text": [
      " error_web_MPACR,prices: 'Date', try to fdr\n"
     ]
    },
    {
     "name": "stderr",
     "output_type": "stream",
     "text": [
      "\r",
      "4506it [3:46:54,  2.21s/it]"
     ]
    },
    {
     "name": "stdout",
     "output_type": "stream",
     "text": [
      " error_web_MCAER,prices: 'Date', try to fdr\n"
     ]
    },
    {
     "name": "stderr",
     "output_type": "stream",
     "text": [
      "4511it [3:47:07,  2.50s/it]"
     ]
    },
    {
     "name": "stdout",
     "output_type": "stream",
     "text": [
      " error_web_BSGAR,prices: 'Date', try to fdr\n"
     ]
    },
    {
     "name": "stderr",
     "output_type": "stream",
     "text": [
      "\r",
      "4512it [3:47:09,  2.53s/it]"
     ]
    },
    {
     "name": "stdout",
     "output_type": "stream",
     "text": [
      " error_web_MCAFR,prices: 'Date', try to fdr\n"
     ]
    },
    {
     "name": "stderr",
     "output_type": "stream",
     "text": [
      "\r",
      "4513it [3:47:12,  2.58s/it]"
     ]
    },
    {
     "name": "stdout",
     "output_type": "stream",
     "text": [
      " error_web_WCGC,prices: 'Date', try to fdr\n"
     ]
    },
    {
     "name": "stderr",
     "output_type": "stream",
     "text": [
      "4515it [3:47:17,  2.54s/it]"
     ]
    },
    {
     "name": "stdout",
     "output_type": "stream",
     "text": [
      " error_web_WHLRL,prices: 'Date', try to fdr\n"
     ]
    },
    {
     "name": "stderr",
     "output_type": "stream",
     "text": [
      "\r",
      "4516it [3:47:19,  2.43s/it]"
     ]
    },
    {
     "name": "stdout",
     "output_type": "stream",
     "text": [
      " error_web_IMAQR,prices: 'Date', try to fdr\n"
     ]
    },
    {
     "name": "stderr",
     "output_type": "stream",
     "text": [
      "\r",
      "4517it [3:47:22,  2.45s/it]"
     ]
    },
    {
     "name": "stdout",
     "output_type": "stream",
     "text": [
      " error_web_UKWIU,prices: 'Date', try to fdr\n"
     ]
    },
    {
     "name": "stderr",
     "output_type": "stream",
     "text": [
      "\r",
      "4518it [3:47:24,  2.49s/it]"
     ]
    },
    {
     "name": "stdout",
     "output_type": "stream",
     "text": [
      " error_web_DYCU,prices: 'Date', try to fdr\n"
     ]
    },
    {
     "name": "stderr",
     "output_type": "stream",
     "text": [
      "4520it [3:47:29,  2.57s/it]"
     ]
    },
    {
     "name": "stdout",
     "output_type": "stream",
     "text": [
      " error_web_CLOER,prices: 'Date', try to fdr\n"
     ]
    },
    {
     "name": "stderr",
     "output_type": "stream",
     "text": [
      "\r",
      "4521it [3:47:32,  2.50s/it]"
     ]
    },
    {
     "name": "stdout",
     "output_type": "stream",
     "text": [
      " error_web_PAFOR,prices: 'Date', try to fdr\n"
     ]
    },
    {
     "name": "stderr",
     "output_type": "stream",
     "text": [
      "4523it [3:47:37,  2.44s/it]"
     ]
    },
    {
     "name": "stdout",
     "output_type": "stream",
     "text": [
      " error_web_NOVVR,prices: 'Date', try to fdr\n"
     ]
    },
    {
     "name": "stderr",
     "output_type": "stream",
     "text": [
      "\r",
      "4524it [3:47:39,  2.46s/it]"
     ]
    },
    {
     "name": "stdout",
     "output_type": "stream",
     "text": [
      " error_web_PPHPR,prices: 'Date', try to fdr\n"
     ]
    },
    {
     "name": "stderr",
     "output_type": "stream",
     "text": [
      "\r",
      "4525it [3:47:42,  2.44s/it]"
     ]
    },
    {
     "name": "stdout",
     "output_type": "stream",
     "text": [
      " error_web_WINVR,prices: 'Date', try to fdr\n"
     ]
    },
    {
     "name": "stderr",
     "output_type": "stream",
     "text": [
      "\r",
      "4526it [3:47:44,  2.45s/it]"
     ]
    },
    {
     "name": "stdout",
     "output_type": "stream",
     "text": [
      " error_web_AEON,prices: 'Date', try to fdr\n"
     ]
    },
    {
     "name": "stderr",
     "output_type": "stream",
     "text": [
      "4529it [3:47:53,  2.73s/it]"
     ]
    },
    {
     "name": "stdout",
     "output_type": "stream",
     "text": [
      " error_web_BNIXR,prices: 'Date', try to fdr\n"
     ]
    },
    {
     "name": "stderr",
     "output_type": "stream",
     "text": [
      "\r",
      "4530it [3:47:55,  2.60s/it]"
     ]
    },
    {
     "name": "stdout",
     "output_type": "stream",
     "text": [
      " error_web_BMAQR,prices: 'Date', try to fdr\n"
     ]
    },
    {
     "name": "stderr",
     "output_type": "stream",
     "text": [
      "4532it [3:48:00,  2.49s/it]"
     ]
    },
    {
     "name": "stdout",
     "output_type": "stream",
     "text": [
      " error_web_HHGCR,prices: 'Date', try to fdr\n"
     ]
    },
    {
     "name": "stderr",
     "output_type": "stream",
     "text": [
      "4535it [3:48:08,  2.52s/it]"
     ]
    },
    {
     "name": "stdout",
     "output_type": "stream",
     "text": [
      " error_web_ENERR,prices: 'Date', try to fdr\n"
     ]
    },
    {
     "name": "stderr",
     "output_type": "stream",
     "text": [
      "\r",
      "4536it [3:48:10,  2.53s/it]"
     ]
    },
    {
     "name": "stdout",
     "output_type": "stream",
     "text": [
      " error_web_MCAGR,prices: 'Date', try to fdr\n"
     ]
    },
    {
     "name": "stderr",
     "output_type": "stream",
     "text": [
      "\r",
      "4537it [3:48:13,  2.60s/it]"
     ]
    },
    {
     "name": "stdout",
     "output_type": "stream",
     "text": [
      " error_web_DMAQR,prices: 'Date', try to fdr\n"
     ]
    },
    {
     "name": "stderr",
     "output_type": "stream",
     "text": [
      "4539it [3:48:19,  2.73s/it]"
     ]
    },
    {
     "name": "stdout",
     "output_type": "stream",
     "text": [
      " error_web_ARIZR,prices: 'Date', try to fdr\n"
     ]
    },
    {
     "name": "stderr",
     "output_type": "stream",
     "text": [
      "\r",
      "4540it [3:48:21,  2.56s/it]"
     ]
    },
    {
     "name": "stdout",
     "output_type": "stream",
     "text": [
      " error_web_LAXXR,prices: 'Date', try to fdr\n"
     ]
    },
    {
     "name": "stderr",
     "output_type": "stream",
     "text": [
      "\r",
      "4541it [3:48:23,  2.50s/it]"
     ]
    },
    {
     "name": "stdout",
     "output_type": "stream",
     "text": [
      " error_web_GLLIR,prices: 'Date', try to fdr\n"
     ]
    },
    {
     "name": "stderr",
     "output_type": "stream",
     "text": [
      "4543it [3:48:28,  2.50s/it]"
     ]
    },
    {
     "name": "stdout",
     "output_type": "stream",
     "text": [
      " error_web_JWACR,prices: 'Date', try to fdr\n"
     ]
    },
    {
     "name": "stderr",
     "output_type": "stream",
     "text": [
      "\r",
      "4544it [3:48:31,  2.59s/it]"
     ]
    },
    {
     "name": "stdout",
     "output_type": "stream",
     "text": [
      " error_web_BLEUR,prices: 'Date', try to fdr\n"
     ]
    },
    {
     "name": "stderr",
     "output_type": "stream",
     "text": [
      "\r",
      "4545it [3:48:33,  2.42s/it]"
     ]
    },
    {
     "name": "stdout",
     "output_type": "stream",
     "text": [
      " error_web_FXCOR,prices: 'Date', try to fdr\n"
     ]
    },
    {
     "name": "stderr",
     "output_type": "stream",
     "text": [
      "\r",
      "4546it [3:48:36,  2.52s/it]"
     ]
    },
    {
     "name": "stdout",
     "output_type": "stream",
     "text": [
      " error_web_FEXDR,prices: 'Date', try to fdr\n"
     ]
    },
    {
     "name": "stderr",
     "output_type": "stream",
     "text": [
      "\r",
      "4547it [3:48:38,  2.48s/it]"
     ]
    },
    {
     "name": "stdout",
     "output_type": "stream",
     "text": [
      " error_web_ALSAR,prices: 'Date', try to fdr\n"
     ]
    },
    {
     "name": "stderr",
     "output_type": "stream",
     "text": [
      "\r",
      "4548it [3:48:40,  2.35s/it]"
     ]
    },
    {
     "name": "stdout",
     "output_type": "stream",
     "text": [
      " error_web_CEGVV,prices: No data fetched for symbol CEGVV using YahooDailyReader, try to fdr\n"
     ]
    },
    {
     "name": "stderr",
     "output_type": "stream",
     "text": [
      "4550it [3:48:45,  2.44s/it]"
     ]
    },
    {
     "name": "stdout",
     "output_type": "stream",
     "text": [
      " error_web_KACLR,prices: 'Date', try to fdr\n"
     ]
    },
    {
     "name": "stderr",
     "output_type": "stream",
     "text": [
      "\r",
      "4551it [3:48:47,  2.32s/it]"
     ]
    },
    {
     "name": "stdout",
     "output_type": "stream",
     "text": [
      " error_web_SMSA,prices: No data fetched for symbol SMSA using YahooDailyReader, try to fdr\n"
     ]
    },
    {
     "name": "stderr",
     "output_type": "stream",
     "text": [
      "\r",
      "4552it [3:48:50,  2.34s/it]"
     ]
    },
    {
     "name": "stdout",
     "output_type": "stream",
     "text": [
      " error_web_WTMAR,prices: 'Date', try to fdr\n"
     ]
    },
    {
     "name": "stderr",
     "output_type": "stream",
     "text": [
      "\r",
      "4553it [3:48:52,  2.36s/it]"
     ]
    },
    {
     "name": "stdout",
     "output_type": "stream",
     "text": [
      " error_web_IGTAR,prices: 'Date', try to fdr\n"
     ]
    },
    {
     "name": "stderr",
     "output_type": "stream",
     "text": [
      "\r",
      "4554it [3:48:55,  2.36s/it]"
     ]
    },
    {
     "name": "stdout",
     "output_type": "stream",
     "text": [
      " error_web_NVACR,prices: 'Date', try to fdr\n"
     ]
    },
    {
     "name": "stderr",
     "output_type": "stream",
     "text": [
      "\r",
      "4555it [3:48:57,  2.45s/it]"
     ]
    },
    {
     "name": "stdout",
     "output_type": "stream",
     "text": [
      " error_web_GFGDR,prices: 'Date', try to fdr\n"
     ]
    },
    {
     "name": "stderr",
     "output_type": "stream",
     "text": [
      "\r",
      "4556it [3:49:00,  2.55s/it]"
     ]
    },
    {
     "name": "stdout",
     "output_type": "stream",
     "text": [
      " error_web_SUNFU,prices: No data fetched for symbol SUNFU using YahooDailyReader, try to fdr\n"
     ]
    },
    {
     "name": "stderr",
     "output_type": "stream",
     "text": [
      "\r",
      "4557it [3:49:03,  2.54s/it]"
     ]
    },
    {
     "name": "stdout",
     "output_type": "stream",
     "text": [
      " error_web_RDTXU,prices: No data fetched for symbol RDTXU using YahooDailyReader, try to fdr\n"
     ]
    },
    {
     "name": "stderr",
     "output_type": "stream",
     "text": [
      "\r",
      "4558it [3:49:06,  2.69s/it]"
     ]
    },
    {
     "name": "stdout",
     "output_type": "stream",
     "text": [
      " error_web_LVOPP,prices: No data fetched for symbol LVOPP using YahooDailyReader, try to fdr\n"
     ]
    },
    {
     "name": "stderr",
     "output_type": "stream",
     "text": [
      "\r",
      "4559it [3:49:08,  2.54s/it]"
     ]
    },
    {
     "name": "stdout",
     "output_type": "stream",
     "text": [
      " error_web_SAGAR,prices: 'Date', try to fdr\n"
     ]
    },
    {
     "name": "stderr",
     "output_type": "stream",
     "text": [
      "\r",
      "4560it [3:49:10,  2.29s/it]"
     ]
    },
    {
     "name": "stdout",
     "output_type": "stream",
     "text": [
      " error_web_JUNS,prices: No data fetched for symbol JUNS using YahooDailyReader, try to fdr\n"
     ]
    },
    {
     "name": "stderr",
     "output_type": "stream",
     "text": [
      "\r",
      "4561it [3:49:12,  2.38s/it]"
     ]
    },
    {
     "name": "stdout",
     "output_type": "stream",
     "text": [
      " error_web_RHDM,prices: No data fetched for symbol RHDM using YahooDailyReader, try to fdr\n"
     ]
    },
    {
     "name": "stderr",
     "output_type": "stream",
     "text": [
      "\r",
      "4562it [3:49:14,  2.37s/it]"
     ]
    },
    {
     "name": "stdout",
     "output_type": "stream",
     "text": [
      " error_web_AIBBR,prices: 'Date', try to fdr\n"
     ]
    },
    {
     "name": "stderr",
     "output_type": "stream",
     "text": [
      "\r",
      "4563it [3:49:17,  2.50s/it]"
     ]
    },
    {
     "name": "stdout",
     "output_type": "stream",
     "text": [
      " error_web_BRACR,prices: 'Date', try to fdr\n"
     ]
    },
    {
     "name": "stderr",
     "output_type": "stream",
     "text": [
      "\r",
      "4564it [3:49:20,  2.48s/it]"
     ]
    },
    {
     "name": "stdout",
     "output_type": "stream",
     "text": [
      " error_web_KYCHR,prices: 'Date', try to fdr\n"
     ]
    },
    {
     "name": "stderr",
     "output_type": "stream",
     "text": [
      "\r",
      "4565it [3:49:22,  2.38s/it]"
     ]
    },
    {
     "name": "stdout",
     "output_type": "stream",
     "text": [
      " error_web_CSLMR,prices: 'Date', try to fdr\n"
     ]
    },
    {
     "name": "stderr",
     "output_type": "stream",
     "text": [
      "\r",
      "4566it [3:49:24,  2.44s/it]"
     ]
    },
    {
     "name": "stdout",
     "output_type": "stream",
     "text": [
      " error_web_BWAQR,prices: 'Date', try to fdr\n"
     ]
    },
    {
     "name": "stderr",
     "output_type": "stream",
     "text": [
      "\r",
      "4567it [3:49:26,  2.31s/it]"
     ]
    },
    {
     "name": "stdout",
     "output_type": "stream",
     "text": [
      " error_web_ASCAR,prices: 'Date', try to fdr\n"
     ]
    },
    {
     "name": "stderr",
     "output_type": "stream",
     "text": [
      "\r",
      "4568it [3:49:29,  2.37s/it]"
     ]
    },
    {
     "name": "stdout",
     "output_type": "stream",
     "text": [
      " error_web_ATAKR,prices: 'Date', try to fdr\n"
     ]
    },
    {
     "name": "stderr",
     "output_type": "stream",
     "text": [
      "\r",
      "4569it [3:49:32,  2.45s/it]"
     ]
    },
    {
     "name": "stdout",
     "output_type": "stream",
     "text": [
      " error_web_ACAXR,prices: 'Date', try to fdr\n"
     ]
    },
    {
     "name": "stderr",
     "output_type": "stream",
     "text": [
      "\r",
      "4570it [3:49:34,  2.57s/it]"
     ]
    },
    {
     "name": "stdout",
     "output_type": "stream",
     "text": [
      " error_web_JGGCR,prices: 'Date', try to fdr\n"
     ]
    },
    {
     "name": "stderr",
     "output_type": "stream",
     "text": [
      "\r",
      "4571it [3:49:37,  2.52s/it]"
     ]
    },
    {
     "name": "stdout",
     "output_type": "stream",
     "text": [
      " error_web_LBBBR,prices: 'Date', try to fdr\n"
     ]
    },
    {
     "name": "stderr",
     "output_type": "stream",
     "text": [
      "\r",
      "4572it [3:49:39,  2.45s/it]"
     ]
    },
    {
     "name": "stdout",
     "output_type": "stream",
     "text": [
      " error_web_GDSTR,prices: 'Date', try to fdr\n"
     ]
    },
    {
     "name": "stderr",
     "output_type": "stream",
     "text": [
      "4575it [3:49:46,  2.39s/it]"
     ]
    },
    {
     "name": "stdout",
     "output_type": "stream",
     "text": [
      " error_web_RFACR,prices: 'Date', try to fdr\n"
     ]
    },
    {
     "name": "stderr",
     "output_type": "stream",
     "text": [
      "\r",
      "4576it [3:49:48,  2.35s/it]"
     ]
    },
    {
     "name": "stdout",
     "output_type": "stream",
     "text": [
      " error_web_RWODR,prices: 'Date', try to fdr\n"
     ]
    },
    {
     "name": "stderr",
     "output_type": "stream",
     "text": [
      "\r",
      "4577it [3:49:51,  2.48s/it]"
     ]
    },
    {
     "name": "stdout",
     "output_type": "stream",
     "text": [
      " error_web_ASCBR,prices: 'Date', try to fdr\n"
     ]
    },
    {
     "name": "stderr",
     "output_type": "stream",
     "text": [
      "\r",
      "4578it [3:49:54,  2.59s/it]"
     ]
    },
    {
     "name": "stdout",
     "output_type": "stream",
     "text": [
      " error_web_MSSAR,prices: 'Date', try to fdr\n"
     ]
    },
    {
     "name": "stderr",
     "output_type": "stream",
     "text": [
      "\r",
      "4579it [3:49:56,  2.53s/it]"
     ]
    },
    {
     "name": "stdout",
     "output_type": "stream",
     "text": [
      " error_web_CLRCR,prices: 'Date', try to fdr\n"
     ]
    },
    {
     "name": "stderr",
     "output_type": "stream",
     "text": [
      "\r",
      "4580it [3:49:58,  2.27s/it]"
     ]
    },
    {
     "name": "stdout",
     "output_type": "stream",
     "text": [
      " error_web_ASPPU,prices: No data fetched for symbol ASPPU using YahooDailyReader, try to fdr\n"
     ]
    },
    {
     "name": "stderr",
     "output_type": "stream",
     "text": [
      "\r",
      "4581it [3:50:00,  2.23s/it]"
     ]
    },
    {
     "name": "stdout",
     "output_type": "stream",
     "text": [
      " error_web_GBBKR,prices: 'Date', try to fdr\n"
     ]
    },
    {
     "name": "stderr",
     "output_type": "stream",
     "text": [
      "\r",
      "4582it [3:50:02,  2.21s/it]"
     ]
    },
    {
     "name": "stdout",
     "output_type": "stream",
     "text": [
      " error_web_YOTAR,prices: 'Date', try to fdr\n"
     ]
    },
    {
     "name": "stderr",
     "output_type": "stream",
     "text": [
      "\r",
      "4583it [3:50:05,  2.23s/it]"
     ]
    },
    {
     "name": "stdout",
     "output_type": "stream",
     "text": [
      " error_web_PNACR,prices: 'Date', try to fdr\n"
     ]
    },
    {
     "name": "stderr",
     "output_type": "stream",
     "text": [
      "\r",
      "4584it [3:50:07,  2.20s/it]"
     ]
    },
    {
     "name": "stdout",
     "output_type": "stream",
     "text": [
      " error_web_FLFVR,prices: 'Date', try to fdr\n"
     ]
    },
    {
     "name": "stderr",
     "output_type": "stream",
     "text": [
      "\r",
      "4585it [3:50:09,  2.12s/it]"
     ]
    },
    {
     "name": "stdout",
     "output_type": "stream",
     "text": [
      " error_web_ZTOPU,prices: No data fetched for symbol ZTOPU using YahooDailyReader, try to fdr\n"
     ]
    },
    {
     "name": "stderr",
     "output_type": "stream",
     "text": [
      "\r",
      "4586it [3:50:10,  1.97s/it]"
     ]
    },
    {
     "name": "stdout",
     "output_type": "stream",
     "text": [
      " error_web_BLACU,prices: No data fetched for symbol BLACU using YahooDailyReader, try to fdr\n"
     ]
    },
    {
     "name": "stderr",
     "output_type": "stream",
     "text": [
      "\r",
      "4587it [3:50:12,  2.01s/it]"
     ]
    },
    {
     "name": "stdout",
     "output_type": "stream",
     "text": [
      " error_web_HMACR,prices: 'Date', try to fdr\n"
     ]
    },
    {
     "name": "stderr",
     "output_type": "stream",
     "text": [
      "\r",
      "4588it [3:50:15,  2.15s/it]"
     ]
    },
    {
     "name": "stdout",
     "output_type": "stream",
     "text": [
      " error_web_EMCGR,prices: 'Date', try to fdr\n"
     ]
    },
    {
     "name": "stderr",
     "output_type": "stream",
     "text": [
      "\r",
      "4589it [3:50:18,  2.33s/it]"
     ]
    },
    {
     "name": "stdout",
     "output_type": "stream",
     "text": [
      " error_web_AQUNR,prices: 'Date', try to fdr\n"
     ]
    },
    {
     "name": "stderr",
     "output_type": "stream",
     "text": [
      "4591it [3:50:23,  2.43s/it]"
     ]
    },
    {
     "name": "stdout",
     "output_type": "stream",
     "text": [
      " error_web_SVIIR,prices: 'Date', try to fdr\n"
     ]
    },
    {
     "name": "stderr",
     "output_type": "stream",
     "text": [
      "4593it [3:50:28,  2.37s/it]"
     ]
    },
    {
     "name": "stdout",
     "output_type": "stream",
     "text": [
      " error_web_GLSTR,prices: 'Date', try to fdr\n"
     ]
    },
    {
     "name": "stderr",
     "output_type": "stream",
     "text": [
      "4594it [3:50:30,  3.01s/it]\n"
     ]
    },
    {
     "name": "stdout",
     "output_type": "stream",
     "text": [
      "nasdaq saved\n",
      "saved\n"
     ]
    },
    {
     "name": "stderr",
     "output_type": "stream",
     "text": [
      "100%|██████████| 1/1 [00:00<00:00,  1.82it/s]\n"
     ]
    },
    {
     "name": "stdout",
     "output_type": "stream",
     "text": [
      "nasdaq saved\n",
      "saved\n",
      "                     Mkt-RF       SMB       HML       RMW       CMA\n",
      "ticker Date                                                        \n",
      "AAME   2020-01-05       NaN       NaN       NaN       NaN       NaN\n",
      "       2020-01-12       NaN       NaN       NaN       NaN       NaN\n",
      "       2020-01-19       NaN       NaN       NaN       NaN       NaN\n",
      "       2020-01-26       NaN       NaN       NaN       NaN       NaN\n",
      "       2020-02-02       NaN       NaN       NaN       NaN       NaN\n",
      "...                     ...       ...       ...       ...       ...\n",
      "ZION   2022-08-07       NaN       NaN       NaN       NaN       NaN\n",
      "       2022-08-14       NaN       NaN       NaN       NaN       NaN\n",
      "       2022-08-21       NaN       NaN       NaN       NaN       NaN\n",
      "       2022-08-28 -0.013688  0.436016  0.323825 -0.079147 -0.596823\n",
      "       2022-09-04  0.002532  0.515125  0.294698 -0.006918 -0.518011\n",
      "\n",
      "[136780 rows x 5 columns]\n",
      "                     Mkt-RF       SMB       HML       RMW       CMA\n",
      "ticker Date                                                        \n",
      "AACG   2020-01-31       NaN       NaN       NaN       NaN       NaN\n",
      "       2020-02-29       NaN       NaN       NaN       NaN       NaN\n",
      "       2020-03-31       NaN       NaN       NaN       NaN       NaN\n",
      "       2020-04-30       NaN       NaN       NaN       NaN       NaN\n",
      "       2020-05-31       NaN       NaN       NaN       NaN       NaN\n",
      "...                     ...       ...       ...       ...       ...\n",
      "ZYXI   2022-05-31 -0.102836  1.277937 -1.333091 -0.083820  2.006059\n",
      "       2022-06-30 -0.369168  1.189384 -1.137859 -0.009208  1.433368\n",
      "       2022-07-31 -0.062124  0.682552 -1.065307 -0.370915  1.057525\n",
      "       2022-08-31  0.145081  0.740280 -1.326790  0.018732  1.248018\n",
      "       2022-09-30  0.207924  0.799834 -1.242048  0.137617  1.346503\n",
      "\n",
      "[84267 rows x 5 columns]\n",
      "nasdaq saved\n",
      "saved\n",
      "finish\n"
     ]
    },
    {
     "ename": "NameError",
     "evalue": "name 'pd' is not defined",
     "output_type": "error",
     "traceback": [
      "\u001b[0;31m---------------------------------------------------------------------------\u001b[0m",
      "\u001b[0;31mNameError\u001b[0m                                 Traceback (most recent call last)",
      "Cell \u001b[0;32mIn [2], line 14\u001b[0m\n\u001b[1;32m      9\u001b[0m \u001b[38;5;66;03m# kospi = Data(\"kospi\")\u001b[39;00m\n\u001b[1;32m     10\u001b[0m \u001b[38;5;66;03m# etf_us = Data(market=\"etf_us\")\u001b[39;00m\n\u001b[1;32m     11\u001b[0m \u001b[38;5;66;03m# etf_kr = Data(\"etf_kr\")\u001b[39;00m\n\u001b[1;32m     13\u001b[0m \u001b[38;5;28mprint\u001b[39m(\u001b[38;5;124m'\u001b[39m\u001b[38;5;124mfinish\u001b[39m\u001b[38;5;124m'\u001b[39m)\n\u001b[0;32m---> 14\u001b[0m FunctionPath\u001b[38;5;241m.\u001b[39mHDFS\u001b[38;5;241m.\u001b[39msave_to_HDFS(\u001b[43mpd\u001b[49m\u001b[38;5;241m.\u001b[39mDataFrame([\u001b[38;5;124m'\u001b[39m\u001b[38;5;124mdummy\u001b[39m\u001b[38;5;124m'\u001b[39m]), \u001b[38;5;124m'\u001b[39m\u001b[38;5;124mdf_dummy\u001b[39m\u001b[38;5;124m'\u001b[39m,\u001b[38;5;124m'\u001b[39m\u001b[38;5;124mdf_dummy.h5\u001b[39m\u001b[38;5;124m'\u001b[39m)\n",
      "\u001b[0;31mNameError\u001b[0m: name 'pd' is not defined"
     ]
    }
   ],
   "source": [
    "from data_provider.data import Data\n",
    "from data_provider.functions_for_data.functions_path import FunctionPath\n",
    "import pandas as pd\n",
    "    \n",
    "    \n",
    "from data_provider import Data\n",
    "# snp500 = Data(\"snp500\")\n",
    "nasdaq = Data(\"nasdaq\")\n",
    "# kospi = Data(\"kospi\")\n",
    "# etf_us = Data(market=\"etf_us\")\n",
    "# etf_kr = Data(\"etf_kr\")\n",
    "\n",
    "print('finish')\n",
    "FunctionPath.HDFS.save_to_HDFS(pd.DataFrame(['dummy']), 'df_dummy','df_dummy.h5')\n"
   ]
  },
  {
   "cell_type": "code",
   "execution_count": 17,
   "id": "1b3bc52b",
   "metadata": {
    "scrolled": false
   },
   "outputs": [
    {
     "data": {
      "text/html": [
       "<div>\n",
       "<style scoped>\n",
       "    .dataframe tbody tr th:only-of-type {\n",
       "        vertical-align: middle;\n",
       "    }\n",
       "\n",
       "    .dataframe tbody tr th {\n",
       "        vertical-align: top;\n",
       "    }\n",
       "\n",
       "    .dataframe thead th {\n",
       "        text-align: right;\n",
       "    }\n",
       "</style>\n",
       "<table border=\"1\" class=\"dataframe\">\n",
       "  <thead>\n",
       "    <tr style=\"text-align: right;\">\n",
       "      <th></th>\n",
       "      <th></th>\n",
       "      <th>return_1w</th>\n",
       "      <th>return_2w</th>\n",
       "      <th>return_3w</th>\n",
       "      <th>return_6w</th>\n",
       "      <th>return_9w</th>\n",
       "      <th>return_12w</th>\n",
       "      <th>Mkt-RF</th>\n",
       "      <th>SMB</th>\n",
       "      <th>HML</th>\n",
       "      <th>RMW</th>\n",
       "      <th>...</th>\n",
       "      <th>month_5</th>\n",
       "      <th>month_6</th>\n",
       "      <th>month_7</th>\n",
       "      <th>month_8</th>\n",
       "      <th>month_9</th>\n",
       "      <th>month_10</th>\n",
       "      <th>month_11</th>\n",
       "      <th>month_12</th>\n",
       "      <th>msize_-1</th>\n",
       "      <th>Unknown</th>\n",
       "    </tr>\n",
       "    <tr>\n",
       "      <th>ticker</th>\n",
       "      <th>Date</th>\n",
       "      <th></th>\n",
       "      <th></th>\n",
       "      <th></th>\n",
       "      <th></th>\n",
       "      <th></th>\n",
       "      <th></th>\n",
       "      <th></th>\n",
       "      <th></th>\n",
       "      <th></th>\n",
       "      <th></th>\n",
       "      <th></th>\n",
       "      <th></th>\n",
       "      <th></th>\n",
       "      <th></th>\n",
       "      <th></th>\n",
       "      <th></th>\n",
       "      <th></th>\n",
       "      <th></th>\n",
       "      <th></th>\n",
       "      <th></th>\n",
       "      <th></th>\n",
       "    </tr>\n",
       "  </thead>\n",
       "  <tbody>\n",
       "    <tr>\n",
       "      <th rowspan=\"5\" valign=\"top\">AAME</th>\n",
       "      <th>2000-04-02</th>\n",
       "      <td>-0.022727</td>\n",
       "      <td>-0.016998</td>\n",
       "      <td>-0.022230</td>\n",
       "      <td>0.000000</td>\n",
       "      <td>-0.002551</td>\n",
       "      <td>0.010354</td>\n",
       "      <td>-0.650054</td>\n",
       "      <td>0.746221</td>\n",
       "      <td>0.083338</td>\n",
       "      <td>0.566239</td>\n",
       "      <td>...</td>\n",
       "      <td>0</td>\n",
       "      <td>0</td>\n",
       "      <td>0</td>\n",
       "      <td>0</td>\n",
       "      <td>0</td>\n",
       "      <td>0</td>\n",
       "      <td>0</td>\n",
       "      <td>0</td>\n",
       "      <td>1</td>\n",
       "      <td>1</td>\n",
       "    </tr>\n",
       "    <tr>\n",
       "      <th>2000-04-09</th>\n",
       "      <td>0.000000</td>\n",
       "      <td>-0.011429</td>\n",
       "      <td>-0.011365</td>\n",
       "      <td>0.001951</td>\n",
       "      <td>0.005306</td>\n",
       "      <td>0.008170</td>\n",
       "      <td>-0.650054</td>\n",
       "      <td>0.746221</td>\n",
       "      <td>0.083338</td>\n",
       "      <td>0.566239</td>\n",
       "      <td>...</td>\n",
       "      <td>0</td>\n",
       "      <td>0</td>\n",
       "      <td>0</td>\n",
       "      <td>0</td>\n",
       "      <td>0</td>\n",
       "      <td>0</td>\n",
       "      <td>0</td>\n",
       "      <td>0</td>\n",
       "      <td>1</td>\n",
       "      <td>1</td>\n",
       "    </tr>\n",
       "    <tr>\n",
       "      <th>2000-04-16</th>\n",
       "      <td>0.000000</td>\n",
       "      <td>0.000000</td>\n",
       "      <td>-0.007634</td>\n",
       "      <td>0.010033</td>\n",
       "      <td>-0.002551</td>\n",
       "      <td>0.006045</td>\n",
       "      <td>-0.650054</td>\n",
       "      <td>0.746221</td>\n",
       "      <td>0.083338</td>\n",
       "      <td>0.566239</td>\n",
       "      <td>...</td>\n",
       "      <td>0</td>\n",
       "      <td>0</td>\n",
       "      <td>0</td>\n",
       "      <td>0</td>\n",
       "      <td>0</td>\n",
       "      <td>0</td>\n",
       "      <td>0</td>\n",
       "      <td>0</td>\n",
       "      <td>1</td>\n",
       "      <td>1</td>\n",
       "    </tr>\n",
       "    <tr>\n",
       "      <th>2000-04-23</th>\n",
       "      <td>-0.023256</td>\n",
       "      <td>-0.011696</td>\n",
       "      <td>-0.007813</td>\n",
       "      <td>-0.015048</td>\n",
       "      <td>-0.002611</td>\n",
       "      <td>-0.003869</td>\n",
       "      <td>-0.650054</td>\n",
       "      <td>0.746221</td>\n",
       "      <td>0.083338</td>\n",
       "      <td>0.566239</td>\n",
       "      <td>...</td>\n",
       "      <td>0</td>\n",
       "      <td>0</td>\n",
       "      <td>0</td>\n",
       "      <td>0</td>\n",
       "      <td>0</td>\n",
       "      <td>0</td>\n",
       "      <td>0</td>\n",
       "      <td>0</td>\n",
       "      <td>1</td>\n",
       "      <td>1</td>\n",
       "    </tr>\n",
       "    <tr>\n",
       "      <th>2000-04-30</th>\n",
       "      <td>0.023810</td>\n",
       "      <td>0.000000</td>\n",
       "      <td>0.000000</td>\n",
       "      <td>-0.005699</td>\n",
       "      <td>0.001300</td>\n",
       "      <td>0.003977</td>\n",
       "      <td>-0.650054</td>\n",
       "      <td>0.746221</td>\n",
       "      <td>0.083338</td>\n",
       "      <td>0.566239</td>\n",
       "      <td>...</td>\n",
       "      <td>0</td>\n",
       "      <td>0</td>\n",
       "      <td>0</td>\n",
       "      <td>0</td>\n",
       "      <td>0</td>\n",
       "      <td>0</td>\n",
       "      <td>0</td>\n",
       "      <td>0</td>\n",
       "      <td>1</td>\n",
       "      <td>1</td>\n",
       "    </tr>\n",
       "    <tr>\n",
       "      <th>...</th>\n",
       "      <th>...</th>\n",
       "      <td>...</td>\n",
       "      <td>...</td>\n",
       "      <td>...</td>\n",
       "      <td>...</td>\n",
       "      <td>...</td>\n",
       "      <td>...</td>\n",
       "      <td>...</td>\n",
       "      <td>...</td>\n",
       "      <td>...</td>\n",
       "      <td>...</td>\n",
       "      <td>...</td>\n",
       "      <td>...</td>\n",
       "      <td>...</td>\n",
       "      <td>...</td>\n",
       "      <td>...</td>\n",
       "      <td>...</td>\n",
       "      <td>...</td>\n",
       "      <td>...</td>\n",
       "      <td>...</td>\n",
       "      <td>...</td>\n",
       "      <td>...</td>\n",
       "    </tr>\n",
       "    <tr>\n",
       "      <th rowspan=\"5\" valign=\"top\">ZION</th>\n",
       "      <th>2022-10-23</th>\n",
       "      <td>-0.046270</td>\n",
       "      <td>-0.025641</td>\n",
       "      <td>-0.020335</td>\n",
       "      <td>-0.033507</td>\n",
       "      <td>-0.020501</td>\n",
       "      <td>-0.010913</td>\n",
       "      <td>-0.013688</td>\n",
       "      <td>0.436016</td>\n",
       "      <td>0.323825</td>\n",
       "      <td>-0.079147</td>\n",
       "      <td>...</td>\n",
       "      <td>0</td>\n",
       "      <td>0</td>\n",
       "      <td>0</td>\n",
       "      <td>0</td>\n",
       "      <td>0</td>\n",
       "      <td>1</td>\n",
       "      <td>0</td>\n",
       "      <td>0</td>\n",
       "      <td>1</td>\n",
       "      <td>1</td>\n",
       "    </tr>\n",
       "    <tr>\n",
       "      <th>2022-10-30</th>\n",
       "      <td>0.077792</td>\n",
       "      <td>0.013865</td>\n",
       "      <td>0.007684</td>\n",
       "      <td>-0.018641</td>\n",
       "      <td>-0.010040</td>\n",
       "      <td>-0.003878</td>\n",
       "      <td>-0.013688</td>\n",
       "      <td>0.436016</td>\n",
       "      <td>0.323825</td>\n",
       "      <td>-0.079147</td>\n",
       "      <td>...</td>\n",
       "      <td>0</td>\n",
       "      <td>0</td>\n",
       "      <td>0</td>\n",
       "      <td>0</td>\n",
       "      <td>0</td>\n",
       "      <td>1</td>\n",
       "      <td>0</td>\n",
       "      <td>0</td>\n",
       "      <td>1</td>\n",
       "      <td>1</td>\n",
       "    </tr>\n",
       "    <tr>\n",
       "      <th>2022-11-06</th>\n",
       "      <td>-0.034536</td>\n",
       "      <td>0.020083</td>\n",
       "      <td>-0.002533</td>\n",
       "      <td>-0.015111</td>\n",
       "      <td>-0.011143</td>\n",
       "      <td>-0.013000</td>\n",
       "      <td>-0.013688</td>\n",
       "      <td>0.436016</td>\n",
       "      <td>0.323825</td>\n",
       "      <td>-0.079147</td>\n",
       "      <td>...</td>\n",
       "      <td>0</td>\n",
       "      <td>0</td>\n",
       "      <td>0</td>\n",
       "      <td>0</td>\n",
       "      <td>0</td>\n",
       "      <td>0</td>\n",
       "      <td>1</td>\n",
       "      <td>0</td>\n",
       "      <td>1</td>\n",
       "      <td>1</td>\n",
       "    </tr>\n",
       "    <tr>\n",
       "      <th>2022-11-13</th>\n",
       "      <td>0.113143</td>\n",
       "      <td>0.036677</td>\n",
       "      <td>0.050205</td>\n",
       "      <td>0.014322</td>\n",
       "      <td>-0.006372</td>\n",
       "      <td>-0.003284</td>\n",
       "      <td>-0.013688</td>\n",
       "      <td>0.436016</td>\n",
       "      <td>0.323825</td>\n",
       "      <td>-0.079147</td>\n",
       "      <td>...</td>\n",
       "      <td>0</td>\n",
       "      <td>0</td>\n",
       "      <td>0</td>\n",
       "      <td>0</td>\n",
       "      <td>0</td>\n",
       "      <td>0</td>\n",
       "      <td>1</td>\n",
       "      <td>0</td>\n",
       "      <td>1</td>\n",
       "      <td>1</td>\n",
       "    </tr>\n",
       "    <tr>\n",
       "      <th>2022-11-20</th>\n",
       "      <td>-0.085033</td>\n",
       "      <td>0.009202</td>\n",
       "      <td>-0.005593</td>\n",
       "      <td>0.001023</td>\n",
       "      <td>-0.014311</td>\n",
       "      <td>-0.008930</td>\n",
       "      <td>-0.013688</td>\n",
       "      <td>0.436016</td>\n",
       "      <td>0.323825</td>\n",
       "      <td>-0.079147</td>\n",
       "      <td>...</td>\n",
       "      <td>0</td>\n",
       "      <td>0</td>\n",
       "      <td>0</td>\n",
       "      <td>0</td>\n",
       "      <td>0</td>\n",
       "      <td>0</td>\n",
       "      <td>1</td>\n",
       "      <td>0</td>\n",
       "      <td>1</td>\n",
       "      <td>1</td>\n",
       "    </tr>\n",
       "  </tbody>\n",
       "</table>\n",
       "<p>1148113 rows × 65 columns</p>\n",
       "</div>"
      ],
      "text/plain": [
       "                   return_1w  return_2w  return_3w  return_6w  return_9w  \\\n",
       "ticker Date                                                                \n",
       "AAME   2000-04-02  -0.022727  -0.016998  -0.022230   0.000000  -0.002551   \n",
       "       2000-04-09   0.000000  -0.011429  -0.011365   0.001951   0.005306   \n",
       "       2000-04-16   0.000000   0.000000  -0.007634   0.010033  -0.002551   \n",
       "       2000-04-23  -0.023256  -0.011696  -0.007813  -0.015048  -0.002611   \n",
       "       2000-04-30   0.023810   0.000000   0.000000  -0.005699   0.001300   \n",
       "...                      ...        ...        ...        ...        ...   \n",
       "ZION   2022-10-23  -0.046270  -0.025641  -0.020335  -0.033507  -0.020501   \n",
       "       2022-10-30   0.077792   0.013865   0.007684  -0.018641  -0.010040   \n",
       "       2022-11-06  -0.034536   0.020083  -0.002533  -0.015111  -0.011143   \n",
       "       2022-11-13   0.113143   0.036677   0.050205   0.014322  -0.006372   \n",
       "       2022-11-20  -0.085033   0.009202  -0.005593   0.001023  -0.014311   \n",
       "\n",
       "                   return_12w    Mkt-RF       SMB       HML       RMW  ...  \\\n",
       "ticker Date                                                            ...   \n",
       "AAME   2000-04-02    0.010354 -0.650054  0.746221  0.083338  0.566239  ...   \n",
       "       2000-04-09    0.008170 -0.650054  0.746221  0.083338  0.566239  ...   \n",
       "       2000-04-16    0.006045 -0.650054  0.746221  0.083338  0.566239  ...   \n",
       "       2000-04-23   -0.003869 -0.650054  0.746221  0.083338  0.566239  ...   \n",
       "       2000-04-30    0.003977 -0.650054  0.746221  0.083338  0.566239  ...   \n",
       "...                       ...       ...       ...       ...       ...  ...   \n",
       "ZION   2022-10-23   -0.010913 -0.013688  0.436016  0.323825 -0.079147  ...   \n",
       "       2022-10-30   -0.003878 -0.013688  0.436016  0.323825 -0.079147  ...   \n",
       "       2022-11-06   -0.013000 -0.013688  0.436016  0.323825 -0.079147  ...   \n",
       "       2022-11-13   -0.003284 -0.013688  0.436016  0.323825 -0.079147  ...   \n",
       "       2022-11-20   -0.008930 -0.013688  0.436016  0.323825 -0.079147  ...   \n",
       "\n",
       "                   month_5  month_6  month_7  month_8  month_9  month_10  \\\n",
       "ticker Date                                                                \n",
       "AAME   2000-04-02        0        0        0        0        0         0   \n",
       "       2000-04-09        0        0        0        0        0         0   \n",
       "       2000-04-16        0        0        0        0        0         0   \n",
       "       2000-04-23        0        0        0        0        0         0   \n",
       "       2000-04-30        0        0        0        0        0         0   \n",
       "...                    ...      ...      ...      ...      ...       ...   \n",
       "ZION   2022-10-23        0        0        0        0        0         1   \n",
       "       2022-10-30        0        0        0        0        0         1   \n",
       "       2022-11-06        0        0        0        0        0         0   \n",
       "       2022-11-13        0        0        0        0        0         0   \n",
       "       2022-11-20        0        0        0        0        0         0   \n",
       "\n",
       "                   month_11  month_12  msize_-1  Unknown  \n",
       "ticker Date                                               \n",
       "AAME   2000-04-02         0         0         1        1  \n",
       "       2000-04-09         0         0         1        1  \n",
       "       2000-04-16         0         0         1        1  \n",
       "       2000-04-23         0         0         1        1  \n",
       "       2000-04-30         0         0         1        1  \n",
       "...                     ...       ...       ...      ...  \n",
       "ZION   2022-10-23         0         0         1        1  \n",
       "       2022-10-30         0         0         1        1  \n",
       "       2022-11-06         1         0         1        1  \n",
       "       2022-11-13         1         0         1        1  \n",
       "       2022-11-20         1         0         1        1  \n",
       "\n",
       "[1148113 rows x 65 columns]"
      ]
     },
     "execution_count": 17,
     "metadata": {},
     "output_type": "execute_result"
    }
   ],
   "source": [
    "nasdaq.data_engineered.get('w')"
   ]
  },
  {
   "cell_type": "code",
   "execution_count": 16,
   "id": "405521e4",
   "metadata": {},
   "outputs": [
    {
     "ename": "NameError",
     "evalue": "name 'Optional' is not defined",
     "output_type": "error",
     "traceback": [
      "\u001b[0;31m---------------------------------------------------------------------------\u001b[0m",
      "\u001b[0;31mNameError\u001b[0m                                 Traceback (most recent call last)",
      "Cell \u001b[0;32mIn [16], line 1\u001b[0m\n\u001b[0;32m----> 1\u001b[0m market:\u001b[43mOptional\u001b[49m[\u001b[38;5;28mstr\u001b[39m]\u001b[38;5;241m=\u001b[39m\u001b[38;5;28;01mNone\u001b[39;00m\n\u001b[1;32m      2\u001b[0m prices:pd\u001b[38;5;241m.\u001b[39mDataFrame \u001b[38;5;241m=\u001b[39m \u001b[38;5;28;01mNone\u001b[39;00m\n\u001b[1;32m      3\u001b[0m volumes: pd\u001b[38;5;241m.\u001b[39mDataFrame \u001b[38;5;241m=\u001b[39m \u001b[38;5;28;01mNone\u001b[39;00m\n",
      "\u001b[0;31mNameError\u001b[0m: name 'Optional' is not defined"
     ]
    }
   ],
   "source": [
    "        market:Optional[str]=None\n",
    "        prices:pd.DataFrame = None\n",
    "        volumes: pd.DataFrame = None\n",
    "        profiles:pd.DataFrame = None\n",
    "        factors:pd.DataFrame = None\n",
    "        data_engineered :Dict[str,pd.DataFrame] = None\n",
    "        updated_date:pd.Timestamp = None\n",
    "        "
   ]
  },
  {
   "cell_type": "code",
   "execution_count": 21,
   "id": "5257c248",
   "metadata": {},
   "outputs": [],
   "source": [
    "import pandas as pd\n",
    "df = pd.DataFrame([1,2,3,4,5])"
   ]
  },
  {
   "cell_type": "code",
   "execution_count": 25,
   "id": "eec0ff02",
   "metadata": {},
   "outputs": [
    {
     "data": {
      "text/plain": [
       "5"
      ]
     },
     "execution_count": 25,
     "metadata": {},
     "output_type": "execute_result"
    }
   ],
   "source": [
    "df.shape[0]"
   ]
  },
  {
   "cell_type": "code",
   "execution_count": null,
   "id": "39b3652a",
   "metadata": {},
   "outputs": [],
   "source": []
  }
 ],
 "metadata": {
  "kernelspec": {
   "display_name": "mlft",
   "language": "python",
   "name": "mlft"
  },
  "language_info": {
   "codemirror_mode": {
    "name": "ipython",
    "version": 3
   },
   "file_extension": ".py",
   "mimetype": "text/x-python",
   "name": "python",
   "nbconvert_exporter": "python",
   "pygments_lexer": "ipython3",
   "version": "3.8.13"
  }
 },
 "nbformat": 4,
 "nbformat_minor": 5
}
