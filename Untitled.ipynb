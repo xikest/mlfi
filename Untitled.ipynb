{
 "cells": [
  {
   "cell_type": "code",
   "execution_count": 1,
   "id": "68a41f8f",
   "metadata": {},
   "outputs": [
    {
     "name": "stdout",
     "output_type": "stream",
     "text": [
      " C 드라이브의 볼륨에는 이름이 없습니다.\n",
      " 볼륨 일련 번호: 6ECB-CDD3\n",
      "\n",
      " C:\\Users\\taest\\Documents\\GitHub\\mlfi 디렉터리\n",
      "\n",
      "2022-11-13  오후 08:09    <DIR>          .\n",
      "2022-11-13  오후 08:09    <DIR>          ..\n",
      "2022-11-13  오후 07:53    <DIR>          .ipynb_checkpoints\n",
      "2022-11-13  오후 07:58    <DIR>          data_provider\n",
      "2022-11-13  오후 07:47             1,400 kelly_allocation.py\n",
      "2022-11-13  오후 08:09             1,576 Untitled.ipynb\n",
      "2022-11-13  오후 07:47    <DIR>          utils\n",
      "               2개 파일               2,976 바이트\n",
      "               5개 디렉터리  181,453,742,080 바이트 남음\n"
     ]
    }
   ],
   "source": [
    "%ls"
   ]
  },
  {
   "cell_type": "code",
   "execution_count": 2,
   "id": "8301ac65",
   "metadata": {},
   "outputs": [],
   "source": [
    "from data_provider import Data"
   ]
  },
  {
   "cell_type": "code",
   "execution_count": 3,
   "id": "1118558a",
   "metadata": {},
   "outputs": [],
   "source": [
    "from data_provider.providers import Profiles, Prices, FamaFrench, DataEngineer\n",
    "from data_provider.functions_for_data import FunctionPath"
   ]
  },
  {
   "cell_type": "code",
   "execution_count": null,
   "id": "e8ddef01",
   "metadata": {},
   "outputs": [],
   "source": [
    "profile_snp500 = Profiles.load_profiles('snp500')\n",
    "profile_snp500 = list(profile_snp500)"
   ]
  },
  {
   "cell_type": "code",
   "execution_count": 5,
   "id": "37ae7ad7",
   "metadata": {},
   "outputs": [
    {
     "data": {
      "text/plain": [
       "<generator object Profiles.load_profiles at 0x0000029242AFB190>"
      ]
     },
     "execution_count": 5,
     "metadata": {},
     "output_type": "execute_result"
    }
   ],
   "source": [
    "profile_snp500"
   ]
  },
  {
   "cell_type": "markdown",
   "id": "17090dff",
   "metadata": {},
   "source": [
    "## 데이터 불러오기"
   ]
  },
  {
   "cell_type": "code",
   "execution_count": null,
   "id": "95df7374",
   "metadata": {},
   "outputs": [],
   "source": [
    "snp500 = Data(\"snp500\")"
   ]
  },
  {
   "cell_type": "code",
   "execution_count": null,
   "id": "c9dd865d",
   "metadata": {},
   "outputs": [],
   "source": [
    "snp500.get_data()"
   ]
  },
  {
   "cell_type": "code",
   "execution_count": null,
   "id": "5c552323",
   "metadata": {},
   "outputs": [],
   "source": [
    "snp500.vol"
   ]
  },
  {
   "cell_type": "code",
   "execution_count": null,
   "id": "433147f5",
   "metadata": {},
   "outputs": [],
   "source": [
    "snp500.get_data().data_engineered.unstack('ticker')"
   ]
  }
 ],
 "metadata": {
  "kernelspec": {
   "display_name": "mlft",
   "language": "python",
   "name": "mlft"
  },
  "language_info": {
   "codemirror_mode": {
    "name": "ipython",
    "version": 3
   },
   "file_extension": ".py",
   "mimetype": "text/x-python",
   "name": "python",
   "nbconvert_exporter": "python",
   "pygments_lexer": "ipython3",
   "version": "3.8.13"
  }
 },
 "nbformat": 4,
 "nbformat_minor": 5
}
